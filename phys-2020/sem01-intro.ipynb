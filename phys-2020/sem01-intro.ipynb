{
 "cells": [
  {
   "cell_type": "markdown",
   "metadata": {},
   "source": [
    "- про Jupyter Notebook: https://devpractice.ru/python-lesson-6-work-in-jupyter-notebook/"
   ]
  },
  {
   "cell_type": "markdown",
   "metadata": {},
   "source": [
    "### Что такое классы\n",
    "\n",
    "Грубо говоря, класс - это набор функций, который может также хранить какие-то внутренние переменные. Применять класс удобно в случаях, когда требуется вызывать последовательность функций. Тогда вместо того, чтобы передавать переменные - результат работы одной функции в другую функцию, эти переменные хранят внутри класса.\n",
    "\n",
    "Создадим класс, который ищет максимум или минимум из чисел, которые будут подавать через функцию add:"
   ]
  },
  {
   "cell_type": "code",
   "execution_count": 1,
   "metadata": {},
   "outputs": [],
   "source": [
    "a = 1"
   ]
  },
  {
   "cell_type": "code",
   "execution_count": 3,
   "metadata": {},
   "outputs": [],
   "source": [
    "b = \"string\""
   ]
  },
  {
   "cell_type": "code",
   "execution_count": 5,
   "metadata": {},
   "outputs": [
    {
     "data": {
      "text/plain": [
       "str"
      ]
     },
     "execution_count": 5,
     "metadata": {},
     "output_type": "execute_result"
    }
   ],
   "source": [
    "type(b)"
   ]
  },
  {
   "cell_type": "code",
   "execution_count": 6,
   "metadata": {},
   "outputs": [],
   "source": [
    "c = [1, 23, 4]"
   ]
  },
  {
   "cell_type": "code",
   "execution_count": 8,
   "metadata": {},
   "outputs": [
    {
     "data": {
      "text/plain": [
       "list"
      ]
     },
     "execution_count": 8,
     "metadata": {},
     "output_type": "execute_result"
    }
   ],
   "source": [
    "type(c)"
   ]
  },
  {
   "cell_type": "code",
   "execution_count": 9,
   "metadata": {},
   "outputs": [],
   "source": [
    "def func(x):\n",
    "    return x * 2"
   ]
  },
  {
   "cell_type": "code",
   "execution_count": 10,
   "metadata": {},
   "outputs": [
    {
     "data": {
      "text/plain": [
       "10"
      ]
     },
     "execution_count": 10,
     "metadata": {},
     "output_type": "execute_result"
    }
   ],
   "source": [
    "func(5)"
   ]
  },
  {
   "cell_type": "code",
   "execution_count": 11,
   "metadata": {},
   "outputs": [
    {
     "data": {
      "text/plain": [
       "1e-10"
      ]
     },
     "execution_count": 11,
     "metadata": {},
     "output_type": "execute_result"
    }
   ],
   "source": [
    "10**(-10)"
   ]
  },
  {
   "cell_type": "code",
   "execution_count": 13,
   "metadata": {},
   "outputs": [
    {
     "name": "stdout",
     "output_type": "stream",
     "text": [
      "I am initializing\n"
     ]
    }
   ],
   "source": [
    "print('I am initializing')"
   ]
  },
  {
   "cell_type": "code",
   "execution_count": 14,
   "metadata": {},
   "outputs": [],
   "source": [
    "class Optim:\n",
    "    def __init__(self, find_max=True):\n",
    "        if find_max:\n",
    "            self.opt = 10**(-10)\n",
    "        else:\n",
    "            self.opt = 10**(10)\n",
    "        print(\"I am initializing\")\n",
    "        self.find_max = find_max"
   ]
  },
  {
   "cell_type": "code",
   "execution_count": 18,
   "metadata": {},
   "outputs": [
    {
     "name": "stdout",
     "output_type": "stream",
     "text": [
      "I am initializing\n"
     ]
    }
   ],
   "source": [
    "optim = Optim(find_max=False)"
   ]
  },
  {
   "cell_type": "code",
   "execution_count": 19,
   "metadata": {},
   "outputs": [
    {
     "data": {
      "text/plain": [
       "10000000000"
      ]
     },
     "execution_count": 19,
     "metadata": {},
     "output_type": "execute_result"
    }
   ],
   "source": [
    "optim.opt"
   ]
  },
  {
   "cell_type": "code",
   "execution_count": 20,
   "metadata": {},
   "outputs": [
    {
     "data": {
      "text/plain": [
       "False"
      ]
     },
     "execution_count": 20,
     "metadata": {},
     "output_type": "execute_result"
    }
   ],
   "source": [
    "optim.find_max"
   ]
  },
  {
   "cell_type": "code",
   "execution_count": 24,
   "metadata": {},
   "outputs": [],
   "source": [
    "class Optim:\n",
    "    def __init__(self, find_max=True):\n",
    "        if find_max:\n",
    "            self.opt = 10**(-10)\n",
    "        else:\n",
    "            self.opt = 10**(10)\n",
    "        print(\"I am initializing\")\n",
    "        self.find_max = find_max\n",
    "        \n",
    "    def add(self, x):\n",
    "        if self.find_max:\n",
    "            if x > self.opt:\n",
    "                self.opt = x\n",
    "        else:\n",
    "            if x < self.opt:\n",
    "                self.opt = x\n",
    "                \n",
    "    def compute(self):\n",
    "        print(\"Optimum equals \", self.opt)"
   ]
  },
  {
   "cell_type": "markdown",
   "metadata": {},
   "source": [
    "Чтобы воспользоваться классом, нужно сначала создать переменную этого класса (или объект класса):"
   ]
  },
  {
   "cell_type": "code",
   "execution_count": 25,
   "metadata": {},
   "outputs": [
    {
     "name": "stdout",
     "output_type": "stream",
     "text": [
      "I am initializing\n"
     ]
    }
   ],
   "source": [
    "optim = Optim()"
   ]
  },
  {
   "cell_type": "markdown",
   "metadata": {},
   "source": [
    "Внутри класса хранится переменная opt:"
   ]
  },
  {
   "cell_type": "code",
   "execution_count": 26,
   "metadata": {},
   "outputs": [
    {
     "data": {
      "text/plain": [
       "1e-10"
      ]
     },
     "execution_count": 26,
     "metadata": {},
     "output_type": "execute_result"
    }
   ],
   "source": [
    "optim.opt"
   ]
  },
  {
   "cell_type": "markdown",
   "metadata": {},
   "source": [
    "Теперь можно вызывать функции класса, которые будут обновлять внутренние переменные:"
   ]
  },
  {
   "cell_type": "code",
   "execution_count": 27,
   "metadata": {},
   "outputs": [],
   "source": [
    "optim.add(x=7)"
   ]
  },
  {
   "cell_type": "code",
   "execution_count": 28,
   "metadata": {},
   "outputs": [
    {
     "data": {
      "text/plain": [
       "7"
      ]
     },
     "execution_count": 28,
     "metadata": {},
     "output_type": "execute_result"
    }
   ],
   "source": [
    "optim.opt"
   ]
  },
  {
   "cell_type": "code",
   "execution_count": 29,
   "metadata": {},
   "outputs": [],
   "source": [
    "optim.add(2)"
   ]
  },
  {
   "cell_type": "code",
   "execution_count": 30,
   "metadata": {},
   "outputs": [
    {
     "name": "stdout",
     "output_type": "stream",
     "text": [
      "Optimum equals  7\n"
     ]
    }
   ],
   "source": [
    "optim.compute()"
   ]
  },
  {
   "cell_type": "markdown",
   "metadata": {},
   "source": [
    "Можно создать другую переменную класса - она не будет никак связана с первой, в частности, у нее будет другое значение opt:"
   ]
  },
  {
   "cell_type": "code",
   "execution_count": 31,
   "metadata": {},
   "outputs": [
    {
     "name": "stdout",
     "output_type": "stream",
     "text": [
      "I am initializing\n"
     ]
    }
   ],
   "source": [
    "optim2 = Optim(find_max=False)"
   ]
  },
  {
   "cell_type": "code",
   "execution_count": 32,
   "metadata": {},
   "outputs": [
    {
     "data": {
      "text/plain": [
       "10000000000"
      ]
     },
     "execution_count": 32,
     "metadata": {},
     "output_type": "execute_result"
    }
   ],
   "source": [
    "optim2.opt"
   ]
  },
  {
   "cell_type": "markdown",
   "metadata": {},
   "source": [
    "При создании объекта класса можно передавать параметры: эти параметры будут немного менять логику работы класса. Например, в нашем случае параметр find_max сообщает классу, нужно искать минимум или максимум. Создавать два отдельных класса под минимум и максимум не имеет смысла, потому что код почти одинаковый, но как-то сообщить классу, что именно он делает, нужно - вот и придумали параметры класса."
   ]
  },
  {
   "cell_type": "markdown",
   "metadata": {},
   "source": [
    "Теперь поговорим вкратце о синтаксисе создания класса:\n",
    "* определение класса начинается строкой class Name:\n",
    "* далее следуют функции класса. у каждой функции первый аргумент всегда называют self - это ссылка на самого себя, чтобы можно было обращаться к внутренним переменным (в нашем примере self.opt). После self следуют любые необходимые пользователю аргументы (в нашем случае - аргумент x функции add). При вызове функции python сам подставит ссылку на объект класса в self, так что пользователю нужно передавать только \"свои\" аргументы (в примерах мы пишем optim.add(2), а self перед 2 не пишем)\n",
    "* выделяется одна служебная функция, именуемая \\__init\\__. Она вызывается при создании объекта класса (когда мы пишем Optim()). В этот момент прозводится инициализация внутренних переменных класса, запоминание параметров и любые другие операции, если они нужны пользователю. В нашем примере необходимо инициализировать переменную self.opt, а также запомнить, будем мы искать минимум или максимум. Также добавлен print, чтобы в примерах было видно, в какой момент вызывается \\__init\\__ "
   ]
  }
 ],
 "metadata": {
  "kernelspec": {
   "display_name": "Python 3",
   "language": "python",
   "name": "python3"
  },
  "language_info": {
   "codemirror_mode": {
    "name": "ipython",
    "version": 3
   },
   "file_extension": ".py",
   "mimetype": "text/x-python",
   "name": "python",
   "nbconvert_exporter": "python",
   "pygments_lexer": "ipython3",
   "version": "3.6.5"
  }
 },
 "nbformat": 4,
 "nbformat_minor": 2
}
